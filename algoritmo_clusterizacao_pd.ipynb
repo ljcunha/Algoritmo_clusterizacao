{
 "cells": [
  {
   "cell_type": "markdown",
   "id": "8f2946ac",
   "metadata": {},
   "source": [
    "#Ambiente e bibliotecas"
   ]
  },
  {
   "cell_type": "code",
   "execution_count": 1,
   "id": "4c4eb901",
   "metadata": {},
   "outputs": [
    {
     "name": "stdout",
     "output_type": "stream",
     "text": [
      "Python: 3.11.13 | packaged by Anaconda, Inc. | (main, Jun  5 2025, 13:03:15) [MSC v.1929 64 bit (AMD64)]\n",
      "Platform: Windows-10-10.0.26200-SP0\n",
      "numpy: 2.3.4\n",
      "pandas: 2.3.3\n",
      "scikit-learn: 1.7.2\n",
      "matplotlib: 3.10.7\n"
     ]
    }
   ],
   "source": [
    "import sys, platform\n",
    "import numpy as np, pandas as pd, sklearn, matplotlib\n",
    "print(\"Python:\", sys.version)\n",
    "print(\"Platform:\", platform.platform())\n",
    "print(\"numpy:\", np.__version__)\n",
    "print(\"pandas:\", pd.__version__)\n",
    "print(\"scikit-learn:\", sklearn.__version__)\n",
    "print(\"matplotlib:\", matplotlib.__version__)\n"
   ]
  }
 ],
 "metadata": {
  "kernelspec": {
   "display_name": "infnet_cluster_env",
   "language": "python",
   "name": "python3"
  },
  "language_info": {
   "codemirror_mode": {
    "name": "ipython",
    "version": 3
   },
   "file_extension": ".py",
   "mimetype": "text/x-python",
   "name": "python",
   "nbconvert_exporter": "python",
   "pygments_lexer": "ipython3",
   "version": "3.11.13"
  }
 },
 "nbformat": 4,
 "nbformat_minor": 5
}
